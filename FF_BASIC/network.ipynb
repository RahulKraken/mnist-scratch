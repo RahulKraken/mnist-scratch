{
 "cells": [
  {
   "cell_type": "code",
   "execution_count": 1,
   "metadata": {},
   "outputs": [],
   "source": [
    "# import dataset\n",
    "\n",
    "import pickle\n",
    "import gzip\n",
    "import random\n",
    "\n",
    "import numpy as np\n",
    "\n",
    "def load_data():\n",
    "    f = gzip.open('../data/mnist.pkl.gz', 'rb')\n",
    "    train_data, valid_data, test_data = pickle.load(f, encoding='latin1')\n",
    "    f.close()\n",
    "    return (train_data, valid_data, test_data)\n",
    "\n",
    "def load_data_wrapper():\n",
    "    tr_d, va_d, te_d = load_data()\n",
    "    training_inputs = [np.reshape(x, (784, 1)) for x in tr_d[0]]\n",
    "    training_results = [vectorized_result(y) for y in tr_d[1]]\n",
    "    training_data = zip(training_inputs, training_results)\n",
    "    validation_inputs = [np.reshape(x, (784, 1)) for x in va_d[0]]\n",
    "    validation_data = zip(validation_inputs, va_d[1])\n",
    "    test_inputs = [np.reshape(x, (784, 1)) for x in te_d[0]]\n",
    "    test_data = zip(test_inputs, te_d[1])\n",
    "    return (training_data, validation_data, test_data)\n",
    "\n",
    "def vectorized_result(j):\n",
    "    e = np.zeros((10, 1))\n",
    "    e[j] = 1.0\n",
    "    return e"
   ]
  },
  {
   "cell_type": "markdown",
   "metadata": {},
   "source": [
    "# Documentation\n",
    "\n",
    "### Constructor\n",
    "\n",
    "Takes in sizes of layers\n",
    "for example [5, 10, 2] means input layer of size 5, one hidden layer of size 10 and output layer of size 2\n",
    "and [10, 20, 20, 30, 5] means input layer of size 10, 3 hidden layers of size 20, 20 and 30 and an output layer of size 5"
   ]
  },
  {
   "cell_type": "code",
   "execution_count": 2,
   "metadata": {},
   "outputs": [],
   "source": [
    "def sigmoid(z):\n",
    "    return 1.0 / (1.0 + np.exp(-z))\n",
    "\n",
    "def sigmoid_prime(z):\n",
    "    return sigmoid(z) * (1 - sigmoid(z))"
   ]
  },
  {
   "cell_type": "code",
   "execution_count": 10,
   "metadata": {},
   "outputs": [],
   "source": [
    "# Neural network\n",
    "\n",
    "class Network():\n",
    "    def __init__(self, sizes):\n",
    "        self.sizes = sizes\n",
    "        self.num_layers = len(sizes)\n",
    "        self.weights = [np.random.randn(y, x) for (x, y) in zip(sizes[:-1], sizes[1:])]\n",
    "        self.biases = [np.random.randn(y, 1) for y in sizes[1:]]\n",
    "    \n",
    "    def feedforward(self, a):\n",
    "        for b, w in zip(self.biases, self.weights):\n",
    "            a = sigmoid(np.dot(w, a) + b)\n",
    "        return a\n",
    "    \n",
    "    def SGD(self, training_data, batch_size, epochs, eta, test_data=None):\n",
    "        training_data = list(training_data)\n",
    "        n = len(training_data)\n",
    "        if test_data:\n",
    "            test_data = list(test_data)\n",
    "            n_test = len(test_data)\n",
    "        # we need to take small batch of data in each epoch and train on that\n",
    "        for it in range(epochs):\n",
    "            random.shuffle(training_data)\n",
    "            batch = [training_data[x : x + batch_size] for x in range(0, n, batch_size)]\n",
    "            for mini_batch in batch:\n",
    "                self.update_mini_batch(mini_batch, eta)\n",
    "            if test_data:\n",
    "                print(\"Epoch {0}: {1} / {2}.\".format(it, self.evaluate(test_data), n_test))\n",
    "            else:\n",
    "                print(\"Epoch {0} completed.\".format(it))\n",
    "    \n",
    "    def update_mini_batch(self, mini_batch, eta):\n",
    "        # total change in network for this mini_batch\n",
    "        total_dw = [np.zeros(w.shape) for w in self.weights]\n",
    "        total_db = [np.zeros(b.shape) for b in self.biases]\n",
    "        for x, y in mini_batch:\n",
    "            # dw, db = change in weights and biases for this particular x, y...??\n",
    "            dw, db = self.train(x, y)\n",
    "            # it's just like sum += d[i] => sum = sum + d[i]\n",
    "            # total_dw = total_dw + dw but in complicated vector way\n",
    "            total_dw = [nw + dnw for nw, dnw in zip(total_dw, dw)]\n",
    "            total_db = [nb + dnb for nb, dnb in zip(total_db, db)]\n",
    "        # update network for this mini_batch\n",
    "        self.weights = [w - (eta / len(mini_batch)) * dnw for w, dnw in zip(self.weights, total_dw)]\n",
    "        self.biases = [b - (eta / len(mini_batch)) * dnb for b, dnb in zip(self.biases, total_db)]\n",
    "    \n",
    "    def train(self, x, y):\n",
    "        # backpropagration starts at the end propagates backwards\n",
    "        # find output error\n",
    "        # for that we need to feed forward some x and see the output\n",
    "        # find the difference from the actual output\n",
    "        \n",
    "        # store total impact of this particular x, y on the network\n",
    "        total_db = [np.zeros(b.shape) for b in self.biases]\n",
    "        total_dw = [np.zeros(w.shape) for w in self.weights]\n",
    "        \n",
    "        # we need z and a vector <3rd and 4th eq of backpropagation>\n",
    "        act = x\n",
    "        acts = [x]\n",
    "        zs = []\n",
    "        \n",
    "        # first feed forward and see how it deals with the input\n",
    "        for b, w in zip(self.biases, self.weights):\n",
    "            z = np.dot(w, act) + b\n",
    "            zs.append(z)\n",
    "            act = sigmoid(z)\n",
    "            acts.append(act)\n",
    "        \n",
    "        # now back propagation with error of last layer\n",
    "        error = self.d_cross_entropy(zs[-1], acts[-1], y)\n",
    "        total_db[-1] = error\n",
    "        total_dw[-1] = np.dot(error, acts[-2].transpose())\n",
    "        # now move backwards and update each layers weights and biases\n",
    "        for l in range(2, self.num_layers):\n",
    "            sp = sigmoid_prime(zs[-l])\n",
    "            error = np.dot(self.weights[-l + 1].transpose(), error) * sp\n",
    "            total_db[-l] = error\n",
    "            total_dw[-l] = np.dot(error, acts[-l - 1].transpose())\n",
    "        return (total_dw, total_db)\n",
    "    \n",
    "    def evaluate(self, test_data):\n",
    "        results = [(np.argmax(self.feedforward(x)), y) for (x, y) in test_data]\n",
    "        return sum(int(x == y) for (x, y) in results)\n",
    "    \n",
    "    def d_cost_quadratic(self, z, out, y):\n",
    "        return (out - y) * sigmoid_prime(z)\n",
    "    \n",
    "    def d_cross_entropy(self, z, out, y):\n",
    "        return (out - y)\n",
    "    "
   ]
  },
  {
   "cell_type": "markdown",
   "metadata": {},
   "source": [
    "## Accuracy on using different cost functions\n",
    "\n",
    "### On using Mean Squared error: 95.30"
   ]
  },
  {
   "cell_type": "code",
   "execution_count": 11,
   "metadata": {
    "scrolled": true
   },
   "outputs": [
    {
     "name": "stdout",
     "output_type": "stream",
     "text": [
      "Epoch 0: 8276 / 10000.\n",
      "Epoch 1: 8704 / 10000.\n",
      "Epoch 2: 8742 / 10000.\n",
      "Epoch 3: 8819 / 10000.\n",
      "Epoch 4: 9012 / 10000.\n",
      "Epoch 5: 9059 / 10000.\n",
      "Epoch 6: 9063 / 10000.\n",
      "Epoch 7: 9164 / 10000.\n",
      "Epoch 8: 9157 / 10000.\n",
      "Epoch 9: 9124 / 10000.\n",
      "Epoch 10: 9154 / 10000.\n",
      "Epoch 11: 9217 / 10000.\n",
      "Epoch 12: 9319 / 10000.\n",
      "Epoch 13: 9251 / 10000.\n",
      "Epoch 14: 9186 / 10000.\n",
      "Epoch 15: 9301 / 10000.\n",
      "Epoch 16: 9236 / 10000.\n",
      "Epoch 17: 9159 / 10000.\n",
      "Epoch 18: 9331 / 10000.\n",
      "Epoch 19: 8995 / 10000.\n",
      "Epoch 20: 9272 / 10000.\n",
      "Epoch 21: 9245 / 10000.\n",
      "Epoch 22: 9254 / 10000.\n",
      "Epoch 23: 9207 / 10000.\n",
      "Epoch 24: 9242 / 10000.\n",
      "Epoch 25: 9306 / 10000.\n",
      "Epoch 26: 9268 / 10000.\n",
      "Epoch 27: 9307 / 10000.\n",
      "Epoch 28: 9347 / 10000.\n"
     ]
    },
    {
     "name": "stderr",
     "output_type": "stream",
     "text": [
      "D:\\myApps\\Anaconda3\\envs\\tf_gpu\\lib\\site-packages\\ipykernel_launcher.py:2: RuntimeWarning: overflow encountered in exp\n",
      "  \n"
     ]
    },
    {
     "name": "stdout",
     "output_type": "stream",
     "text": [
      "Epoch 29: 9268 / 10000.\n"
     ]
    }
   ],
   "source": [
    "train, valid, test = load_data_wrapper()\n",
    "net = Network([784, 30, 50, 10])\n",
    "net.SGD(train, 10, 30, 3.0, test)"
   ]
  }
 ],
 "metadata": {
  "kernelspec": {
   "display_name": "Python 3",
   "language": "python",
   "name": "python3"
  },
  "language_info": {
   "codemirror_mode": {
    "name": "ipython",
    "version": 3
   },
   "file_extension": ".py",
   "mimetype": "text/x-python",
   "name": "python",
   "nbconvert_exporter": "python",
   "pygments_lexer": "ipython3",
   "version": "3.7.9"
  }
 },
 "nbformat": 4,
 "nbformat_minor": 4
}
